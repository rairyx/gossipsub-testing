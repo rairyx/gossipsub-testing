{
 "cells": [
  {
   "cell_type": "code",
   "execution_count": 1,
   "metadata": {},
   "outputs": [],
   "source": [
    "import glob\n",
    "import json\n",
    "import sys\n",
    "\n",
    "# change this to your virtualenv path\n",
    "sys.path.append('../../venv/gs-test/lib/python3.6/site-packages')"
   ]
  },
  {
   "cell_type": "code",
   "execution_count": 2,
   "metadata": {},
   "outputs": [],
   "source": [
    "%matplotlib inline\n",
    "\n",
    "import numpy as np\n",
    "import matplotlib.pyplot as plt"
   ]
  },
  {
   "cell_type": "code",
   "execution_count": 3,
   "metadata": {},
   "outputs": [],
   "source": [
    "metricProps = {\n",
    "    'messageID': '',\n",
    "    'originatorHostID': '',\n",
    "    'totalNanoTime': '',\n",
    "    'lastDeliveryHop': '',\n",
    "    'relativeMessageRedundancy': ''\n",
    "}\n",
    "\n",
    "class Metric(object):\n",
    "    def __init__(self, props = metricProps):        \n",
    "        self.messageID = props['messageID']\n",
    "        self.originatorHostID = props['originatorHostID']\n",
    "        self.totalNanoTime = int(props['totalNanoTime'])\n",
    "        self.lastDeliveryHop = float(props['lastDeliveryHop'])\n",
    "        self.relativeMessageRedundancy = float(props['relativeMessageRedundancy'])"
   ]
  },
  {
   "cell_type": "code",
   "execution_count": 4,
   "metadata": {},
   "outputs": [],
   "source": [
    "def computeMetrics(algorithm = 'gossip', filename = None):\n",
    "    metrics = []\n",
    "    nanoTimes = []\n",
    "    ldh = []\n",
    "    rmr = []\n",
    "    \n",
    "    if filename == None:\n",
    "        pubsubAnalysisFiles = glob.glob('*.json')\n",
    "    else:\n",
    "        pubsubAnalysisFiles = glob.glob('{}'.format(filename))\n",
    "        \n",
    "\n",
    "\n",
    "    for pubsubAnalysisFile in pubsubAnalysisFiles:\n",
    "        tmpMetrics = []\n",
    "\n",
    "        with open(pubsubAnalysisFile) as json_file:\n",
    "            data = json.load(json_file)\n",
    "            for metric in data:\n",
    "                m = Metric(metric)\n",
    "                tmpMetrics.append(m)\n",
    "                \n",
    "                nanoTimes.append(m.totalNanoTime)\n",
    "                ldh.append(m.lastDeliveryHop)\n",
    "                rmr.append(m.relativeMessageRedundancy)\n",
    "\n",
    "        metrics.append(tmpMetrics)\n",
    "            \n",
    "    _ = plt.hist(nanoTimes, bins='auto', histtype='step')\n",
    "    plt.title(\"{} - Total Nano Time Histogram\".format(algorithm))\n",
    "    plt.xlabel('Total Nano Time')\n",
    "    plt.ylabel('Occurrence')\n",
    "\n",
    "    plt.show()\n",
    "    \n",
    "    _ = plt.hist(ldh, bins='auto', histtype='step')\n",
    "    plt.title(\"{} - Last Delivery Hop Histogram\".format(algorithm))\n",
    "    plt.xlabel('Last Delivery Hop')\n",
    "    plt.ylabel('Occurrence')\n",
    "\n",
    "    plt.show()\n",
    "    \n",
    "    _ = plt.hist(rmr, bins='auto', histtype='step')\n",
    "    plt.title(\"{} - Relative Message Redundancy Histogram\".format(algorithm))\n",
    "    plt.xlabel('Relative Message Redundancy')\n",
    "    plt.ylabel('Occurrence')\n",
    "\n",
    "    plt.show()\n",
    "    \n",
    "    nanoMean = np.mean(nanoTimes)\n",
    "    nanoMedian = np.median(nanoTimes)\n",
    "    nanoStd = np.std(nanoTimes)\n",
    "\n",
    "    ldhMean = np.mean(ldh)\n",
    "    ldhMedian = np.median(ldh)\n",
    "    ldhStd = np.std(ldh)\n",
    "\n",
    "    rmrMean = np.mean(rmr)\n",
    "    rmrMedian = np.median(rmr)\n",
    "    rmrStd = np.std(rmr)\n",
    "\n",
    "    print('Messages published: {}'.format(len(nanoTimes)))\n",
    "    print('Total Nano Times - mean: {}, median: {}, std: {}'.format(nanoMean, nanoMedian, nanoStd))\n",
    "    print('Last Delivery Hop - mean: {}, median: {}, std: {}'.format(ldhMean, ldhMedian, ldhStd))\n",
    "    print('Relative Message Redundancy - mean: {}, median: {}, std: {}'.format(rmrMean, rmrMedian, rmrStd))"
   ]
  },
  {
   "cell_type": "code",
   "execution_count": 5,
   "metadata": {
    "scrolled": true
   },
   "outputs": [
    {
     "ename": "KeyError",
     "evalue": "'relativeMessageRedundancy'",
     "output_type": "error",
     "traceback": [
      "\u001b[0;31m---------------------------------------------------------------------------\u001b[0m",
      "\u001b[0;31mKeyError\u001b[0m                                  Traceback (most recent call last)",
      "\u001b[0;32m<ipython-input-5-e2238a60c8bb>\u001b[0m in \u001b[0;36m<module>\u001b[0;34m\u001b[0m\n\u001b[1;32m      1\u001b[0m \u001b[0;31m# for individual plotting\u001b[0m\u001b[0;34m\u001b[0m\u001b[0;34m\u001b[0m\u001b[0;34m\u001b[0m\u001b[0m\n\u001b[0;32m----> 2\u001b[0;31m \u001b[0mcomputeMetrics\u001b[0m\u001b[0;34m(\u001b[0m\u001b[0;34m'gossip'\u001b[0m\u001b[0;34m,\u001b[0m \u001b[0;34m'analysis_21b.1.json'\u001b[0m\u001b[0;34m)\u001b[0m\u001b[0;34m\u001b[0m\u001b[0;34m\u001b[0m\u001b[0m\n\u001b[0m",
      "\u001b[0;32m<ipython-input-4-10f21f12a70e>\u001b[0m in \u001b[0;36mcomputeMetrics\u001b[0;34m(algorithm, filename)\u001b[0m\n\u001b[1;32m     18\u001b[0m             \u001b[0mdata\u001b[0m \u001b[0;34m=\u001b[0m \u001b[0mjson\u001b[0m\u001b[0;34m.\u001b[0m\u001b[0mload\u001b[0m\u001b[0;34m(\u001b[0m\u001b[0mjson_file\u001b[0m\u001b[0;34m)\u001b[0m\u001b[0;34m\u001b[0m\u001b[0;34m\u001b[0m\u001b[0m\n\u001b[1;32m     19\u001b[0m             \u001b[0;32mfor\u001b[0m \u001b[0mmetric\u001b[0m \u001b[0;32min\u001b[0m \u001b[0mdata\u001b[0m\u001b[0;34m:\u001b[0m\u001b[0;34m\u001b[0m\u001b[0;34m\u001b[0m\u001b[0m\n\u001b[0;32m---> 20\u001b[0;31m                 \u001b[0mm\u001b[0m \u001b[0;34m=\u001b[0m \u001b[0mMetric\u001b[0m\u001b[0;34m(\u001b[0m\u001b[0mmetric\u001b[0m\u001b[0;34m)\u001b[0m\u001b[0;34m\u001b[0m\u001b[0;34m\u001b[0m\u001b[0m\n\u001b[0m\u001b[1;32m     21\u001b[0m                 \u001b[0mtmpMetrics\u001b[0m\u001b[0;34m.\u001b[0m\u001b[0mappend\u001b[0m\u001b[0;34m(\u001b[0m\u001b[0mm\u001b[0m\u001b[0;34m)\u001b[0m\u001b[0;34m\u001b[0m\u001b[0;34m\u001b[0m\u001b[0m\n\u001b[1;32m     22\u001b[0m \u001b[0;34m\u001b[0m\u001b[0m\n",
      "\u001b[0;32m<ipython-input-3-4a4a5726c40c>\u001b[0m in \u001b[0;36m__init__\u001b[0;34m(self, props)\u001b[0m\n\u001b[1;32m     13\u001b[0m         \u001b[0mself\u001b[0m\u001b[0;34m.\u001b[0m\u001b[0mtotalNanoTime\u001b[0m \u001b[0;34m=\u001b[0m \u001b[0mint\u001b[0m\u001b[0;34m(\u001b[0m\u001b[0mprops\u001b[0m\u001b[0;34m[\u001b[0m\u001b[0;34m'totalNanoTime'\u001b[0m\u001b[0;34m]\u001b[0m\u001b[0;34m)\u001b[0m\u001b[0;34m\u001b[0m\u001b[0;34m\u001b[0m\u001b[0m\n\u001b[1;32m     14\u001b[0m         \u001b[0mself\u001b[0m\u001b[0;34m.\u001b[0m\u001b[0mlastDeliveryHop\u001b[0m \u001b[0;34m=\u001b[0m \u001b[0mfloat\u001b[0m\u001b[0;34m(\u001b[0m\u001b[0mprops\u001b[0m\u001b[0;34m[\u001b[0m\u001b[0;34m'lastDeliveryHop'\u001b[0m\u001b[0;34m]\u001b[0m\u001b[0;34m)\u001b[0m\u001b[0;34m\u001b[0m\u001b[0;34m\u001b[0m\u001b[0m\n\u001b[0;32m---> 15\u001b[0;31m         \u001b[0mself\u001b[0m\u001b[0;34m.\u001b[0m\u001b[0mrelativeMessageRedundancy\u001b[0m \u001b[0;34m=\u001b[0m \u001b[0mfloat\u001b[0m\u001b[0;34m(\u001b[0m\u001b[0mprops\u001b[0m\u001b[0;34m[\u001b[0m\u001b[0;34m'relativeMessageRedundancy'\u001b[0m\u001b[0;34m]\u001b[0m\u001b[0;34m)\u001b[0m\u001b[0;34m\u001b[0m\u001b[0;34m\u001b[0m\u001b[0m\n\u001b[0m",
      "\u001b[0;31mKeyError\u001b[0m: 'relativeMessageRedundancy'"
     ]
    }
   ],
   "source": [
    "# for individual plotting\n",
    "computeMetrics('gossip', 'analysis_21b.1.json')"
   ]
  },
  {
   "cell_type": "code",
   "execution_count": null,
   "metadata": {
    "scrolled": false
   },
   "outputs": [],
   "source": [
    "for file in glob.glob('analysis*.json'):\n",
    "    try: \n",
    "        print(\"\\n\\nfile:\" + file)\n",
    "        computeMetrics('gossip', file)\n",
    "    except KeyError:\n",
    "        #not sure why this is happening\n",
    "        print(\"relativeMessageRedundancy key error, skipping analysis\")"
   ]
  },
  {
   "cell_type": "code",
   "execution_count": null,
   "metadata": {},
   "outputs": [],
   "source": []
  }
 ],
 "metadata": {
  "kernelspec": {
   "display_name": "Python 3",
   "language": "python",
   "name": "python3"
  },
  "language_info": {
   "codemirror_mode": {
    "name": "ipython",
    "version": 3
   },
   "file_extension": ".py",
   "mimetype": "text/x-python",
   "name": "python",
   "nbconvert_exporter": "python",
   "pygments_lexer": "ipython3",
   "version": "3.6.8"
  }
 },
 "nbformat": 4,
 "nbformat_minor": 2
}
